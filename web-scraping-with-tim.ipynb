{
 "cells": [
  {
   "cell_type": "code",
   "execution_count": 80,
   "metadata": {},
   "outputs": [],
   "source": [
    "#!pip install Pillow\n",
    "#!pip install requests\n",
    "#!pip install selenium"
   ]
  },
  {
   "cell_type": "code",
   "execution_count": 1,
   "metadata": {},
   "outputs": [],
   "source": [
    "PATH = '//Users//veyselaytekin//Desktop//Data_Science//1_PYTHON_VE_LIBRARY//Web_Scraping//chromedriver' #exec'te olabilir sonu\n",
    "# bu PATH bizim Chrome icin indirdigimiz dosyanin yolu,yapacagimiz islemleri Chromeda yapmak icin \n",
    "\n",
    "#burda / tek slash isareti vardi, hata cikmamasi icin iki tan eyaptik ama neden hata alacagimizi bilmiyorum\n"
   ]
  },
  {
   "cell_type": "code",
   "execution_count": 2,
   "metadata": {},
   "outputs": [],
   "source": [
    "# Selenium kullama sebebimiz tarayicimizi otomatik hale getiriyor"
   ]
  },
  {
   "cell_type": "code",
   "execution_count": 3,
   "metadata": {},
   "outputs": [],
   "source": [
    "from selenium import webdriver\n",
    "import io  #fotoyu bytlarla saklamak ile ilgili \n",
    "from PIL import Image\n",
    "import requests\n",
    "from selenium.webdriver.common.by import By  #bu kücük resimlerin class'larini almak icin\n",
    "import time"
   ]
  },
  {
   "cell_type": "code",
   "execution_count": 4,
   "metadata": {},
   "outputs": [
    {
     "name": "stderr",
     "output_type": "stream",
     "text": [
      "/var/folders/_9/ph76r20j4ss1dpbdh33_j0fm0000gn/T/ipykernel_3728/2762071474.py:1: DeprecationWarning: executable_path has been deprecated, please pass in a Service object\n",
      "  wd = webdriver.Chrome(PATH)\n"
     ]
    }
   ],
   "source": [
    "wd = webdriver.Chrome(PATH)\n",
    "#bu bize crome sayfasini aciyor, ve icine hangi url verirsen asagidaki kod ile onu veriyor"
   ]
  },
  {
   "cell_type": "code",
   "execution_count": 5,
   "metadata": {},
   "outputs": [],
   "source": [
    "image_url = 'https://www.the-rugs.com/wp-content/uploads/2020/01/CAIMAS-COLLECTION-5800-5-600x600.jpg'"
   ]
  },
  {
   "cell_type": "code",
   "execution_count": 6,
   "metadata": {},
   "outputs": [],
   "source": [
    "def get_images_from_google(wd, delay, max_images): #max_images maksimum kac resim indirecegimiz ile ilgili, wd=yukarida tarayici ile ilgili\n",
    "    def scroll_down(wd):  #ekranlari asagi kaydirma islemi icin\n",
    "        wd.execute_script('window.scrollTo(0,document.body.scrollHeight);')\n",
    "        time.sleep(delay)  #kac saniye sonra isleme baslayacagi ile ilgili sanki\n",
    "\n",
    "    url = 'https://www.the-rugs.com/'   #b bizim resimlerini almak istedigimiz sayfanin url'si\n",
    "    wd.get(url) # galiba bu sayfayi Croma yükleyecek\n",
    "\n",
    "    image_urls = set()\n",
    "\n",
    "    while len(image_url) < max_images: #burda def icine max_images saiysi yazacagiz, bu yazdigimiz sayi kadar resim gelmesini istiyoruz\n",
    "        scroll_down(wd) #sayfanin sonuna kadar gitmesi icin\n",
    "\n",
    "        thumbnails = wd.find_element(By.CLASS_NAME, 'Q4LuWd')  #bu galiba kücük resimöler üzerinde dolasacak ve onlarin urlsini almak icin olabilir, bu kod ise kücük resimlerin class adi\n",
    "        for img in thumbnails[len(image_url):max_images]:\n",
    "            try:\n",
    "                img.click()\n",
    "                time.sleep(delay)\n",
    "                \n",
    "            except:\n",
    "                continue\n",
    "            \n",
    "            images = wd.find_element(By.CLASS_NAME, 'n3VNCb') # bu ise google images'lerde orta boy resimlere tiklayinca sagda büyük resim ciktigindaki incele'deki class codu\n",
    "            for image in images:\n",
    "                if image.get_attribute('src') and 'http' in image.get_attribute('src'): #bu eger orta boy resimlerden biri eger kaynagi yoksa onu almamasi icin, and http ilede kaynaginin olup olmadigini garantiliyoruz\n",
    "                    image_url.add(image.get_attribute('src'))\n",
    "                    print(f'Found {len(image_url)}')\n",
    "    return image_urls                \n",
    "            \n",
    "\n",
    "\n",
    "        \n",
    "\n",
    "\n",
    "\n",
    "#get_images_from_google(wd, 2, 10)   \n",
    "#wd.quit()  #chrome'u bir kere acmasi icin ve islem bittigine pencereyi kapatacaktir\n",
    "    \n",
    "# bu kod ile "
   ]
  },
  {
   "cell_type": "code",
   "execution_count": 7,
   "metadata": {},
   "outputs": [],
   "source": [
    "def download_image(download_path, url, file_name): # file_name:resimleiri kaydetmek istedigim dosyanin adi,dowland_path= galiba fotoyu baska bir yere indirmek istrsek buraya bir yol yazabiliriz\n",
    "    try:\n",
    "        image_content = requests.get(url).content #url ile istek almamizi sagliyor,content bize görüntünün icerigini verecek\n",
    "        image_file = io.BytesIO(image_content)  #io fotonun byte'larla ilgili oldugu kisimla ilgili bisey ama tam olarak ne bakmadaim halen, BytesIO dosyayi bellekte saklamak ile ilgili dedi\n",
    "        image = Image.open(image_file) #buda fotoyu acmamiz icin\n",
    "        file_path = download_path + file_name      #görüntüyü kaydetmek icin dosya yolu olusturuyorum\n",
    "\n",
    "        with open(file_path, 'wb') as f: # #foto acmak icin,'wb=write ve byte anlaminda, resmi f ye kaydedecegim dedi\n",
    "            image.save(f, 'JPEG')\n",
    "        print('Success')\n",
    "    except Exception as e:  #bu e ile kisaltma yapti,ve asagida bastirack\n",
    "        print('FAILED', e)    \n",
    "\n",
    "# bu kod ile requests ile fotoy almak icin bir request gönderiyoruz, content ile görüntünün icerigini aliyoruz\n",
    "# io.BytesIO ile foto kisa süreli depolaniyor,open ile fotoyu aciyor ve within altindaki yerde fotoyu kaydediyor"
   ]
  },
  {
   "cell_type": "code",
   "execution_count": 8,
   "metadata": {},
   "outputs": [
    {
     "ename": "NoSuchWindowException",
     "evalue": "Message: no such window: target window already closed\nfrom unknown error: web view not found\n  (Session info: chrome=109.0.5414.87)\nStacktrace:\n0   chromedriver                        0x0000000104ebbfa8 chromedriver + 4886440\n1   chromedriver                        0x0000000104e39643 chromedriver + 4351555\n2   chromedriver                        0x0000000104a87b27 chromedriver + 477991\n3   chromedriver                        0x0000000104a5d0a5 chromedriver + 303269\n4   chromedriver                        0x0000000104af78ef chromedriver + 936175\n5   chromedriver                        0x0000000104b0cad3 chromedriver + 1022675\n6   chromedriver                        0x0000000104af23a3 chromedriver + 914339\n7   chromedriver                        0x0000000104abc57f chromedriver + 693631\n8   chromedriver                        0x0000000104abdb1e chromedriver + 699166\n9   chromedriver                        0x0000000104e88b9e chromedriver + 4676510\n10  chromedriver                        0x0000000104e8d91e chromedriver + 4696350\n11  chromedriver                        0x0000000104e9519f chromedriver + 4727199\n12  chromedriver                        0x0000000104e8e81a chromedriver + 4700186\n13  chromedriver                        0x0000000104e61a62 chromedriver + 4516450\n14  chromedriver                        0x0000000104ead8c8 chromedriver + 4827336\n15  chromedriver                        0x0000000104eada45 chromedriver + 4827717\n16  chromedriver                        0x0000000104ec37ef chromedriver + 4917231\n17  libsystem_pthread.dylib             0x00007ff819523259 _pthread_start + 125\n18  libsystem_pthread.dylib             0x00007ff81951ec7b thread_start + 15\n",
     "output_type": "error",
     "traceback": [
      "\u001b[0;31m---------------------------------------------------------------------------\u001b[0m",
      "\u001b[0;31mNoSuchWindowException\u001b[0m                     Traceback (most recent call last)",
      "\u001b[0;32m/var/folders/_9/ph76r20j4ss1dpbdh33_j0fm0000gn/T/ipykernel_3728/1616452182.py\u001b[0m in \u001b[0;36m<module>\u001b[0;34m\u001b[0m\n\u001b[0;32m----> 1\u001b[0;31m \u001b[0murls\u001b[0m \u001b[0;34m=\u001b[0m \u001b[0mget_images_from_google\u001b[0m\u001b[0;34m(\u001b[0m\u001b[0mwd\u001b[0m\u001b[0;34m,\u001b[0m \u001b[0;36m9\u001b[0m\u001b[0;34m,\u001b[0m \u001b[0;36m5\u001b[0m\u001b[0;34m)\u001b[0m\u001b[0;34m\u001b[0m\u001b[0;34m\u001b[0m\u001b[0m\n\u001b[0m\u001b[1;32m      2\u001b[0m \u001b[0mprint\u001b[0m\u001b[0;34m(\u001b[0m\u001b[0murls\u001b[0m\u001b[0;34m)\u001b[0m\u001b[0;34m\u001b[0m\u001b[0;34m\u001b[0m\u001b[0m\n\u001b[1;32m      3\u001b[0m \u001b[0;31m#wd.quit()\u001b[0m\u001b[0;34m\u001b[0m\u001b[0;34m\u001b[0m\u001b[0m\n",
      "\u001b[0;32m/var/folders/_9/ph76r20j4ss1dpbdh33_j0fm0000gn/T/ipykernel_3728/2516257189.py\u001b[0m in \u001b[0;36mget_images_from_google\u001b[0;34m(wd, delay, max_images)\u001b[0m\n\u001b[1;32m      5\u001b[0m \u001b[0;34m\u001b[0m\u001b[0m\n\u001b[1;32m      6\u001b[0m     \u001b[0murl\u001b[0m \u001b[0;34m=\u001b[0m \u001b[0;34m'https://www.the-rugs.com/'\u001b[0m   \u001b[0;31m#b bizim resimlerini almak istedigimiz sayfanin url'si\u001b[0m\u001b[0;34m\u001b[0m\u001b[0;34m\u001b[0m\u001b[0m\n\u001b[0;32m----> 7\u001b[0;31m     \u001b[0mwd\u001b[0m\u001b[0;34m.\u001b[0m\u001b[0mget\u001b[0m\u001b[0;34m(\u001b[0m\u001b[0murl\u001b[0m\u001b[0;34m)\u001b[0m \u001b[0;31m# galiba bu sayfayi Croma yükleyecek\u001b[0m\u001b[0;34m\u001b[0m\u001b[0;34m\u001b[0m\u001b[0m\n\u001b[0m\u001b[1;32m      8\u001b[0m \u001b[0;34m\u001b[0m\u001b[0m\n\u001b[1;32m      9\u001b[0m     \u001b[0mimage_urls\u001b[0m \u001b[0;34m=\u001b[0m \u001b[0mset\u001b[0m\u001b[0;34m(\u001b[0m\u001b[0;34m)\u001b[0m\u001b[0;34m\u001b[0m\u001b[0;34m\u001b[0m\u001b[0m\n",
      "\u001b[0;32m~/opt/anaconda3/lib/python3.9/site-packages/selenium/webdriver/remote/webdriver.py\u001b[0m in \u001b[0;36mget\u001b[0;34m(self, url)\u001b[0m\n\u001b[1;32m    453\u001b[0m         \u001b[0mLoads\u001b[0m \u001b[0ma\u001b[0m \u001b[0mweb\u001b[0m \u001b[0mpage\u001b[0m \u001b[0;32min\u001b[0m \u001b[0mthe\u001b[0m \u001b[0mcurrent\u001b[0m \u001b[0mbrowser\u001b[0m \u001b[0msession\u001b[0m\u001b[0;34m.\u001b[0m\u001b[0;34m\u001b[0m\u001b[0;34m\u001b[0m\u001b[0m\n\u001b[1;32m    454\u001b[0m         \"\"\"\n\u001b[0;32m--> 455\u001b[0;31m         \u001b[0mself\u001b[0m\u001b[0;34m.\u001b[0m\u001b[0mexecute\u001b[0m\u001b[0;34m(\u001b[0m\u001b[0mCommand\u001b[0m\u001b[0;34m.\u001b[0m\u001b[0mGET\u001b[0m\u001b[0;34m,\u001b[0m \u001b[0;34m{\u001b[0m\u001b[0;34m\"url\"\u001b[0m\u001b[0;34m:\u001b[0m \u001b[0murl\u001b[0m\u001b[0;34m}\u001b[0m\u001b[0;34m)\u001b[0m\u001b[0;34m\u001b[0m\u001b[0;34m\u001b[0m\u001b[0m\n\u001b[0m\u001b[1;32m    456\u001b[0m \u001b[0;34m\u001b[0m\u001b[0m\n\u001b[1;32m    457\u001b[0m     \u001b[0;34m@\u001b[0m\u001b[0mproperty\u001b[0m\u001b[0;34m\u001b[0m\u001b[0;34m\u001b[0m\u001b[0m\n",
      "\u001b[0;32m~/opt/anaconda3/lib/python3.9/site-packages/selenium/webdriver/remote/webdriver.py\u001b[0m in \u001b[0;36mexecute\u001b[0;34m(self, driver_command, params)\u001b[0m\n\u001b[1;32m    442\u001b[0m         \u001b[0mresponse\u001b[0m \u001b[0;34m=\u001b[0m \u001b[0mself\u001b[0m\u001b[0;34m.\u001b[0m\u001b[0mcommand_executor\u001b[0m\u001b[0;34m.\u001b[0m\u001b[0mexecute\u001b[0m\u001b[0;34m(\u001b[0m\u001b[0mdriver_command\u001b[0m\u001b[0;34m,\u001b[0m \u001b[0mparams\u001b[0m\u001b[0;34m)\u001b[0m\u001b[0;34m\u001b[0m\u001b[0;34m\u001b[0m\u001b[0m\n\u001b[1;32m    443\u001b[0m         \u001b[0;32mif\u001b[0m \u001b[0mresponse\u001b[0m\u001b[0;34m:\u001b[0m\u001b[0;34m\u001b[0m\u001b[0;34m\u001b[0m\u001b[0m\n\u001b[0;32m--> 444\u001b[0;31m             \u001b[0mself\u001b[0m\u001b[0;34m.\u001b[0m\u001b[0merror_handler\u001b[0m\u001b[0;34m.\u001b[0m\u001b[0mcheck_response\u001b[0m\u001b[0;34m(\u001b[0m\u001b[0mresponse\u001b[0m\u001b[0;34m)\u001b[0m\u001b[0;34m\u001b[0m\u001b[0;34m\u001b[0m\u001b[0m\n\u001b[0m\u001b[1;32m    445\u001b[0m             \u001b[0mresponse\u001b[0m\u001b[0;34m[\u001b[0m\u001b[0;34m\"value\"\u001b[0m\u001b[0;34m]\u001b[0m \u001b[0;34m=\u001b[0m \u001b[0mself\u001b[0m\u001b[0;34m.\u001b[0m\u001b[0m_unwrap_value\u001b[0m\u001b[0;34m(\u001b[0m\u001b[0mresponse\u001b[0m\u001b[0;34m.\u001b[0m\u001b[0mget\u001b[0m\u001b[0;34m(\u001b[0m\u001b[0;34m\"value\"\u001b[0m\u001b[0;34m,\u001b[0m \u001b[0;32mNone\u001b[0m\u001b[0;34m)\u001b[0m\u001b[0;34m)\u001b[0m\u001b[0;34m\u001b[0m\u001b[0;34m\u001b[0m\u001b[0m\n\u001b[1;32m    446\u001b[0m             \u001b[0;32mreturn\u001b[0m \u001b[0mresponse\u001b[0m\u001b[0;34m\u001b[0m\u001b[0;34m\u001b[0m\u001b[0m\n",
      "\u001b[0;32m~/opt/anaconda3/lib/python3.9/site-packages/selenium/webdriver/remote/errorhandler.py\u001b[0m in \u001b[0;36mcheck_response\u001b[0;34m(self, response)\u001b[0m\n\u001b[1;32m    247\u001b[0m                 \u001b[0malert_text\u001b[0m \u001b[0;34m=\u001b[0m \u001b[0mvalue\u001b[0m\u001b[0;34m[\u001b[0m\u001b[0;34m\"alert\"\u001b[0m\u001b[0;34m]\u001b[0m\u001b[0;34m.\u001b[0m\u001b[0mget\u001b[0m\u001b[0;34m(\u001b[0m\u001b[0;34m\"text\"\u001b[0m\u001b[0;34m)\u001b[0m\u001b[0;34m\u001b[0m\u001b[0;34m\u001b[0m\u001b[0m\n\u001b[1;32m    248\u001b[0m             \u001b[0;32mraise\u001b[0m \u001b[0mexception_class\u001b[0m\u001b[0;34m(\u001b[0m\u001b[0mmessage\u001b[0m\u001b[0;34m,\u001b[0m \u001b[0mscreen\u001b[0m\u001b[0;34m,\u001b[0m \u001b[0mstacktrace\u001b[0m\u001b[0;34m,\u001b[0m \u001b[0malert_text\u001b[0m\u001b[0;34m)\u001b[0m  \u001b[0;31m# type: ignore[call-arg]  # mypy is not smart enough here\u001b[0m\u001b[0;34m\u001b[0m\u001b[0;34m\u001b[0m\u001b[0m\n\u001b[0;32m--> 249\u001b[0;31m         \u001b[0;32mraise\u001b[0m \u001b[0mexception_class\u001b[0m\u001b[0;34m(\u001b[0m\u001b[0mmessage\u001b[0m\u001b[0;34m,\u001b[0m \u001b[0mscreen\u001b[0m\u001b[0;34m,\u001b[0m \u001b[0mstacktrace\u001b[0m\u001b[0;34m)\u001b[0m\u001b[0;34m\u001b[0m\u001b[0;34m\u001b[0m\u001b[0m\n\u001b[0m",
      "\u001b[0;31mNoSuchWindowException\u001b[0m: Message: no such window: target window already closed\nfrom unknown error: web view not found\n  (Session info: chrome=109.0.5414.87)\nStacktrace:\n0   chromedriver                        0x0000000104ebbfa8 chromedriver + 4886440\n1   chromedriver                        0x0000000104e39643 chromedriver + 4351555\n2   chromedriver                        0x0000000104a87b27 chromedriver + 477991\n3   chromedriver                        0x0000000104a5d0a5 chromedriver + 303269\n4   chromedriver                        0x0000000104af78ef chromedriver + 936175\n5   chromedriver                        0x0000000104b0cad3 chromedriver + 1022675\n6   chromedriver                        0x0000000104af23a3 chromedriver + 914339\n7   chromedriver                        0x0000000104abc57f chromedriver + 693631\n8   chromedriver                        0x0000000104abdb1e chromedriver + 699166\n9   chromedriver                        0x0000000104e88b9e chromedriver + 4676510\n10  chromedriver                        0x0000000104e8d91e chromedriver + 4696350\n11  chromedriver                        0x0000000104e9519f chromedriver + 4727199\n12  chromedriver                        0x0000000104e8e81a chromedriver + 4700186\n13  chromedriver                        0x0000000104e61a62 chromedriver + 4516450\n14  chromedriver                        0x0000000104ead8c8 chromedriver + 4827336\n15  chromedriver                        0x0000000104eada45 chromedriver + 4827717\n16  chromedriver                        0x0000000104ec37ef chromedriver + 4917231\n17  libsystem_pthread.dylib             0x00007ff819523259 _pthread_start + 125\n18  libsystem_pthread.dylib             0x00007ff81951ec7b thread_start + 15\n"
     ]
    }
   ],
   "source": [
    "urls = get_images_from_google(wd, 9, 5)\n",
    "print(urls)\n",
    "#wd.quit()"
   ]
  },
  {
   "cell_type": "code",
   "execution_count": 89,
   "metadata": {},
   "outputs": [],
   "source": [
    "# download_image('',image_url, 'caimasCollection.jpg')  #dowland_pate birsey yazmadi, oldugu yere insin dedi\n",
    "\n",
    "\n",
    "# bu kodu yoruma aldim cünkü her calistirdigimda kaydetmesin\n",
    "#su an sadece buraya kadarki yazisima göre, iki foto linki koyup indirdim, ikincisini indirdikten sonra ilki \n",
    "# silindi, yani her foto icin, hem fonksiyon cagirikenki icine yazdigimiz jpgli ismini,hemde image_url\n",
    "#olan yeride degistirmeliyiz\n",
    "\n",
    "# örnegin url yi eksik yazinca kod calisti ama söyle bir cikti verdi, yani kod durmadi\n",
    "#FAILED cannot identify image file <_io.BytesIO object at 0x7fda893202c0>"
   ]
  },
  {
   "cell_type": "code",
   "execution_count": null,
   "metadata": {},
   "outputs": [],
   "source": []
  }
 ],
 "metadata": {
  "kernelspec": {
   "display_name": "Python 3.9.13 ('base')",
   "language": "python",
   "name": "python3"
  },
  "language_info": {
   "codemirror_mode": {
    "name": "ipython",
    "version": 3
   },
   "file_extension": ".py",
   "mimetype": "text/x-python",
   "name": "python",
   "nbconvert_exporter": "python",
   "pygments_lexer": "ipython3",
   "version": "3.9.13"
  },
  "orig_nbformat": 4,
  "vscode": {
   "interpreter": {
    "hash": "f7c19a79b9aeb8b1cc18eda6778f62d726c8b19540b84d23ad80114035b2e0b4"
   }
  }
 },
 "nbformat": 4,
 "nbformat_minor": 2
}
