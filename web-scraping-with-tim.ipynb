{
 "cells": [
  {
   "cell_type": "code",
   "execution_count": 52,
   "metadata": {},
   "outputs": [],
   "source": [
    "#!pip install Pillow\n",
    "#!pip install requests\n",
    "#!pip install selenium"
   ]
  },
  {
   "cell_type": "code",
   "execution_count": 53,
   "metadata": {},
   "outputs": [],
   "source": [
    "PATH = '//Users//veyselaytekin//Desktop//Data_Science//1_PYTHON_VE_LIBRARY//Web_Scraping//chromedriver' #exec'te olabilir sonu\n",
    "# bu PATH bizim Chrome icin indirdigimiz dosyanin yolu,yapacagimiz islemleri Chromeda yapmak icin \n",
    "\n",
    "#burda / tek slash isareti vardi, hata cikmamasi icin iki tan eyaptik ama neden hata alacagimizi bilmiyorum\n"
   ]
  },
  {
   "cell_type": "code",
   "execution_count": 54,
   "metadata": {},
   "outputs": [],
   "source": [
    "# Selenium kullama sebebimiz tarayicimizi otomatik hale getiriyor"
   ]
  },
  {
   "cell_type": "code",
   "execution_count": 55,
   "metadata": {},
   "outputs": [],
   "source": [
    "from selenium import webdriver\n",
    "import io  #fotoyu bytlarla saklamak ile ilgili \n",
    "from PIL import Image\n",
    "import requests"
   ]
  },
  {
   "cell_type": "code",
   "execution_count": 56,
   "metadata": {},
   "outputs": [],
   "source": [
    "wd = webdriver.Chrome(PATH)"
   ]
  },
  {
   "cell_type": "code",
   "execution_count": 57,
   "metadata": {},
   "outputs": [],
   "source": [
    "image_url = 'https://www.the-rugs.com/wp-content/uploads/2020/01/CAIMAS-COLLECTION-5800-5-600x600.jpg'"
   ]
  },
  {
   "cell_type": "code",
   "execution_count": null,
   "metadata": {},
   "outputs": [],
   "source": [
    "def get_images_from_google(wd, delay, max_images): #max_images maksimum kac resim indirecegimiz ile ilgili, wd=yukarida tarayici ile ilgili\n"
   ]
  },
  {
   "cell_type": "code",
   "execution_count": 58,
   "metadata": {},
   "outputs": [],
   "source": [
    "def download_image(download_path, url, file_name): # file_name:resimleiri kaydetmek istedigim dosyanin adi,dowland_path= \n",
    "    try:\n",
    "        image_content = requests.get(url).content #url ile istek almamizi sagliyor,content bize görüntünün icerigini verecek\n",
    "        image_file = io.BytesIO(image_content)  #io fotonun byte'larla ilgili oldugu kisimla ilgili bisey ama tam olarak ne bakmadaim halen, BytesIO dosyayi bellekte saklamak ile ilgili dedi\n",
    "        image = Image.open(image_file) #buda fotoyu acmamiz icin\n",
    "        file_path = download_path + file_name      #görüntüyü kaydetmek icin dosya yolu olusturuyorum\n",
    "\n",
    "        with open(file_path, 'wb') as f: # #foto acmak icin,'wb=write ve byte anlaminda, resmi f ye kaydedecegim dedi\n",
    "            image.save(f, 'JPEG')\n",
    "        print('Success')\n",
    "    except Exception as e:  #bu e ile kisaltma yapti,ve asagida bastirack\n",
    "        print('FAILED', e)    \n",
    "\n",
    "# bu kod ile requests ile fotoy almak icin bir request gönderiyoruz, content ile görüntünün icerigini aliyoruz\n",
    "# io.BytesIO ile foto kisa süreli depolaniyor,open ile fotoyu aciyor ve within altindaki yerde fotoyu kaydediyor"
   ]
  },
  {
   "cell_type": "code",
   "execution_count": 59,
   "metadata": {},
   "outputs": [
    {
     "name": "stdout",
     "output_type": "stream",
     "text": [
      "Success\n"
     ]
    }
   ],
   "source": [
    "# download_image('',image_url, 'caimasCollection.jpg')  #dowland_pate birsey yazmadi, oldugu yere insin dedi\n",
    "\n",
    "\n",
    "# bu kodu yoruma aldim cünkü her calistirdigimda kaydetmesin\n",
    "#su an sadece buraya kadarki yazisima göre, iki foto linki koyup indirdim, ikincisini indirdikten sonra ilki \n",
    "# silindi, yani her foto icin, hem fonksiyon cagirikenki icine yazdigimiz jpgli ismini,hemde image_url\n",
    "#olan yeride degistirmeliyiz\n",
    "\n",
    "# örnegin url yi eksik yazinca kod calisti ama söyle bir cikti verdi, yani kod durmadi\n",
    "#FAILED cannot identify image file <_io.BytesIO object at 0x7fda893202c0>"
   ]
  },
  {
   "cell_type": "code",
   "execution_count": null,
   "metadata": {},
   "outputs": [],
   "source": []
  }
 ],
 "metadata": {
  "kernelspec": {
   "display_name": "Python 3.9.13 ('base')",
   "language": "python",
   "name": "python3"
  },
  "language_info": {
   "codemirror_mode": {
    "name": "ipython",
    "version": 3
   },
   "file_extension": ".py",
   "mimetype": "text/x-python",
   "name": "python",
   "nbconvert_exporter": "python",
   "pygments_lexer": "ipython3",
   "version": "3.9.13"
  },
  "orig_nbformat": 4,
  "vscode": {
   "interpreter": {
    "hash": "f7c19a79b9aeb8b1cc18eda6778f62d726c8b19540b84d23ad80114035b2e0b4"
   }
  }
 },
 "nbformat": 4,
 "nbformat_minor": 2
}
